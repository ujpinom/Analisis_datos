{
 "cells": [
  {
   "cell_type": "code",
   "execution_count": 12,
   "metadata": {},
   "outputs": [
    {
     "data": {
      "text/plain": [
       "Total    True\n",
       "East     True\n",
       "West     True\n",
       "dtype: bool"
      ]
     },
     "execution_count": 12,
     "metadata": {},
     "output_type": "execute_result"
    }
   ],
   "source": [
    "import numpy as np;import pandas as pd;import seaborn as sns; from matplotlib import pyplot as ppt; sns.set()\n",
    "\n",
    "seattle=pd.read_csv('C:\\\\Users\\\\SONY\\\\Desktop\\\\NumPy\\\\Fremont_Bridge_Bicycle_Counter.csv',index_col='Date',parse_dates=True)\n",
    "seattle.columns=['Total','East','West']\n",
    "seattle.isnull().any()\n"
   ]
  }
 ],
 "metadata": {
  "kernelspec": {
   "display_name": "Python 3",
   "language": "python",
   "name": "python3"
  },
  "language_info": {
   "codemirror_mode": {
    "name": "ipython",
    "version": 3
   },
   "file_extension": ".py",
   "mimetype": "text/x-python",
   "name": "python",
   "nbconvert_exporter": "python",
   "pygments_lexer": "ipython3",
   "version": "3.8.5"
  }
 },
 "nbformat": 4,
 "nbformat_minor": 4
}
